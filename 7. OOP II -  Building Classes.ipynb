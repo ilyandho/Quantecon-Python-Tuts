{
 "cells": [
  {
   "attachments": {},
   "cell_type": "markdown",
   "metadata": {},
   "source": [
    "# OOP II: Building Classes"
   ]
  },
  {
   "attachments": {},
   "cell_type": "markdown",
   "metadata": {},
   "source": [
    "## Defining Your Own Classes\n",
    "Let’s build some simple classes to start off.\n",
    "\n",
    "Before we do so, in order to indicate some of the power of Classes, we’ll define two functions that we’ll call <span style=\"color:pink\">earn</span> and <span style=\"color:pink\">spend</span>."
   ]
  },
  {
   "cell_type": "code",
   "execution_count": 1,
   "metadata": {},
   "outputs": [
    {
     "name": "stdout",
     "output_type": "stream",
     "text": [
      "w0,w1,w3,w4 =  100 110 90 100 80\n"
     ]
    }
   ],
   "source": [
    "def earn(w,y):\n",
    "    \"Consumer with initial wealth w earns y\"\n",
    "    return w+y\n",
    "\n",
    "def spend(w,x):\n",
    "    \"Consumer with initial wealth spends x\"\n",
    "    new_wealth = w-x\n",
    "    if new_wealth <0:\n",
    "        print(\"Insufficient funds\")\n",
    "    else:\n",
    "        return new_wealth\n",
    "\n",
    "w0 = 100\n",
    "w1 = earn(w0,10)\n",
    "w2 = spend(w1,20)\n",
    "w3 = earn(w2,10)\n",
    "w4 = spend(w3,20)\n",
    "print(\"w0,w1,w3,w4 = \",w0,w1,w2,w3,w4)"
   ]
  },
  {
   "attachments": {},
   "cell_type": "markdown",
   "metadata": {},
   "source": [
    "### A consumer Class\n",
    "We’ll build a <span style=\"color:pink\">Consumer class with\n",
    "\n",
    "- a <span style=\"color:pink\">wealth</span> attribute that stores the consumer’s wealth (data)\n",
    "\n",
    "- an <span style=\"color:pink\">earn</span> method, where <span style=\"color:pink\">earn(y)</span> increments the consumer’s wealth by <span style=\"color:pink\">y</span>\n",
    "\n",
    "- a <span style=\"color:pink\">spend</span> method, where <span style=\"color:pink\">spend(x)</span> either decreases wealth by <span style=\"color:pink\">x</span> or returns an error if insufficient funds exist\n",
    "\n",
    "Admittedly a little contrived, this example of a class helps us internalize some peculiar syntax.\n",
    "\n",
    "Here how we set up our Consumer class."
   ]
  },
  {
   "cell_type": "code",
   "execution_count": 4,
   "metadata": {},
   "outputs": [
    {
     "name": "stdout",
     "output_type": "stream",
     "text": [
      "5\n",
      "Insufficient funds\n"
     ]
    }
   ],
   "source": [
    "class Consumer:\n",
    "    # __init__ method is a constructor method\n",
    "    # wealth is instance data\n",
    "    def __init__(self,w):\n",
    "        \"Initialize consumer with w dollars of wealth\"\n",
    "        self.wealth = w\n",
    "    \n",
    "    def earn(self,y):\n",
    "        \"The consumer earns y dollars\"\n",
    "        self.wealth += y \n",
    "\n",
    "    def spend(self,x):\n",
    "        \"The consumer spends x dollars if feasible\"\n",
    "        new_wealth = self.wealth - x\n",
    "        if new_wealth < 0:\n",
    "            print(\"Insufficient funds\")\n",
    "        else:\n",
    "            self.wealth = new_wealth\n",
    "\n",
    "c1 = Consumer(10) # Create instance with initial wealth = 10\n",
    "c1.spend(5)\n",
    "print(c1.wealth)\n",
    "\n",
    "c1.earn(15)\n",
    "c1.spend(100)"
   ]
  },
  {
   "cell_type": "code",
   "execution_count": 5,
   "metadata": {},
   "outputs": [
    {
     "data": {
      "text/plain": [
       "8"
      ]
     },
     "execution_count": 5,
     "metadata": {},
     "output_type": "execute_result"
    }
   ],
   "source": [
    "c1 = Consumer(10)\n",
    "c2 = Consumer(12)\n",
    "c2.spend(4)\n",
    "c2.wealth"
   ]
  },
  {
   "attachments": {},
   "cell_type": "markdown",
   "metadata": {},
   "source": [
    "## Examples"
   ]
  },
  {
   "attachments": {},
   "cell_type": "markdown",
   "metadata": {},
   "source": [
    "### The Solow Growth Model\n",
    "Let’s write a simple class to implement the Solow growth model.\n",
    "\n",
    "The Solow growth model is a neoclassical growth model in which the per capita capital stock $k_t$ evolves according to the rule\n",
    "$\\begin{equation}\\tag{1} k_{t+1} = \\frac{szk_t^{\\alpha} + (1 - \\sigma)k_t}{1 + n} \\end{equation}$\n",
    "Here\n",
    "\n",
    "- $s$ is an exogenously given saving rate\n",
    "\n",
    "- $z$ is a productivity parameter\n",
    "\n",
    "- $\\alpha$ is capital’s share of income\n",
    "\n",
    "- $n$ is the population growth rate\n",
    "\n",
    "- $\\sigma$ is the depreciation rate\n",
    "\n",
    "A *steady state* of the model is a $k$ that solves $(1)$ when $k_{t+1} = k_t = k$.\n",
    "\n",
    "Here’s a class that implements this model.\n",
    "\n",
    "Some points of interest in the code are\n",
    "\n",
    "- An instance maintains a record of its current capital stock in the variable <span style=\"color:pink\">self.k</span>.\n",
    "\n",
    "- The <span style=\"color:pink\">h</span> method implements the right-hand side of $(1)$.\n",
    "\n",
    "- The  <span style=\"color:pink\">update</span> method uses <span style=\"color:pink\">h</span> to update capital as per $(1)$.\n",
    "\n",
    "    - Notice how inside <span style=\"color:pink\">update</span> the reference to the local method <span style=\"color:pink\">h</span> is <span style=\"color:pink\">self.h</span>.\n",
    "\n",
    "The methods <span style=\"color:pink\">steady_state</span> and <span style=\"color:pink\">generate_sequence</span> are fairly self-explanatory"
   ]
  },
  {
   "cell_type": "code",
   "execution_count": 10,
   "metadata": {},
   "outputs": [],
   "source": [
    "import matplotlib.pyplot as plt\n",
    "class Solow:\n",
    "    r\"\"\"\n",
    "    Implements the Solow growth model with the update rule\n",
    "\n",
    "        k_{t+1} = [(s z k^α_t) + (1 - δ)k_t] /(1 + n)\n",
    "    \"\"\"\n",
    "    def __init__(self, n=0.05,  # population growth rate\n",
    "                       s=0.25,  # savings rate\n",
    "                       δ=0.1,   # depreciation rate\n",
    "                       α=0.3,   # share of labor\n",
    "                       z=2.0,   # productivity\n",
    "                       k=1.0):  # current capital stock\n",
    "        self.n, self.s, self.δ, self.α, self.z = n, s,  δ, α, z\n",
    "        self.k = k\n",
    "\n",
    "    def h(self):\n",
    "        \"Evaluate the h function\"\n",
    "        # Unpack parameters (get rid of self to simplify notation)\n",
    "        n, s, δ, α, z = self.n, self.s, self.δ, self.α, self.z\n",
    "        # Apply the update rule\n",
    "        return (s * z * self.k**α + (1 - δ) * self.k) / (1 + n)\n",
    "\n",
    "    def update(self):\n",
    "        \"Update the current state (i.e., the capital stock).\"\n",
    "        self.k =  self.h()\n",
    "\n",
    "    def steady_state(self):\n",
    "        \"Compute the steady state value of capital.\"\n",
    "        # Unpack parameters (get rid of self to simplify notation)\n",
    "        n, s, δ, α, z = self.n, self.s, self.δ, self.α, self.z\n",
    "        # Compute and return steady state\n",
    "        return ((s * z) / (n + δ))**(1 / (1 - α))\n",
    "\n",
    "    def generate_sequence(self, t):\n",
    "        \"Generate and return a time series of length t\"\n",
    "        path = []\n",
    "        for i in range(t):\n",
    "            path.append(self.k)\n",
    "            self.update()\n",
    "        return path"
   ]
  },
  {
   "cell_type": "code",
   "execution_count": 11,
   "metadata": {},
   "outputs": [
    {
     "data": {
      "image/png": "[encoded data removed]",
      "text/plain": [
       "<Figure size 900x600 with 1 Axes>"
      ]
     },
     "metadata": {},
     "output_type": "display_data"
    }
   ],
   "source": [
    "s1 = Solow()\n",
    "s2 = Solow(k=8.0)\n",
    "\n",
    "T = 60\n",
    "fig,ax = plt.subplots(figsize=(9,6))\n",
    "\n",
    "# Plot the common steady state value of capital\n",
    "ax.plot([s1.steady_state()]*T, 'k-', label='steady state')\n",
    "\n",
    "# Plot time series for each economy\n",
    "for s in s1, s2:\n",
    "    lb = f'capital series from initial state {s.k}'\n",
    "    ax.plot(s.generate_sequence(T), 'o-', lw=2, alpha=0.6, label=lb)\n",
    "\n",
    "ax.set_xlabel('$t$', fontsize=14)\n",
    "ax.set_ylabel('$k_t$', fontsize=14)\n",
    "ax.legend()\n",
    "plt.show()"
   ]
  },
  {
   "attachments": {},
   "cell_type": "markdown",
   "metadata": {},
   "source": [
    "### A Market"
   ]
  },
  {
   "attachments": {},
   "cell_type": "markdown",
   "metadata": {},
   "source": [
    "Next, let’s write a class for competitive market in which buyers and sellers are both price takers.\n",
    "\n",
    "The market consists of the following objects:\n",
    "\n",
    "A linear demand curve $Q = a_d -b_dp$\n",
    "\n",
    "A linear supply curve $Q = a_z + b_z(p-t)$\n",
    "\n",
    "Here\n",
    "\n",
    "- $p$ is price paid by the buyer, $Q$ is quantity and $t$ is a per-unit tax.\n",
    "\n",
    "- Other symbols are demand and supply parameters.\n",
    "\n",
    "The class provides methods to compute various values of interest, including competitive equilibrium price and quantity, tax revenue raised, consumer surplus and producer surplus.\n",
    "\n",
    "Here’s our implementation.\n",
    "\n",
    "(It uses a function from SciPy called quad for numerical integration—a topic we will say more about later on.)"
   ]
  },
  {
   "cell_type": "code",
   "execution_count": 12,
   "metadata": {},
   "outputs": [],
   "source": [
    "from scipy.integrate import quad\n",
    "\n",
    "class Market:\n",
    "    def __init__(self, ad, bd, az, bz, tax):\n",
    "        \"\"\"\n",
    "        Set up market parameters.  All parameters are scalars.  See\n",
    "        https://lectures.quantecon.org/py/python_oop.html for interpretation.\n",
    "\n",
    "        \"\"\"\n",
    "        self.ad, self.bd, self.az, self.bz, self.tax = ad, bd, az, bz, tax\n",
    "        if ad < az:\n",
    "            raise ValueError('Insufficient demand.')\n",
    "    def price(self):\n",
    "        \"\"\"\n",
    "        Compute equilibrium price.\n",
    "        Make P the subject after equating the two equations\n",
    "\n",
    "        \"\"\"\n",
    "        return  (self.ad - self.az + self.bz * self.tax) / (self.bd + self.bz)\n",
    "    \n",
    "    def quantity(self):\n",
    "        \"Compute equilibrium quantity\"\n",
    "        return self.ad - self.bd*self.price()\n",
    "\n",
    "    def consumer_surp(self):\n",
    "        \"Compute consumer surplus\"\n",
    "        # == Compute area under inverse demand function == #\n",
    "        integrand = lambda x: (self.ad / self.bd) - (1 / self.bd) * x\n",
    "        area, error = quad(integrand, 0, self.quantity())\n",
    "        return area - self.price() * self.quantity()\n",
    "\n",
    "    def producer_surp(self):\n",
    "        \"Compute producer surplus\"\n",
    "        #  == Compute area above inverse supply curve, excluding tax == #\n",
    "        integrand = lambda x: -(self.az / self.bz) + (1 / self.bz) * x\n",
    "        area, error = quad(integrand, 0, self.quantity())\n",
    "        return (self.price() - self.tax) * self.quantity() - area\n",
    "    def taxrev(self):\n",
    "        \"Compute tax revenue\"\n",
    "        return self.tax * self.quantity()\n",
    "\n",
    "    def inverse_demand(self, x):\n",
    "        \"Compute inverse demand\"\n",
    "        return self.ad / self.bd - (1 / self.bd)* x\n",
    "\n",
    "    def inverse_supply(self, x):\n",
    "        \"Compute inverse supply curve\"\n",
    "        return -(self.az / self.bz) + (1 / self.bz) * x + self.tax\n",
    "\n",
    "    def inverse_supply_no_tax(self, x):\n",
    "        \"Compute inverse supply curve without tax\"\n",
    "        return -(self.az / self.bz) + (1 / self.bz) * x\n"
   ]
  },
  {
   "cell_type": "code",
   "execution_count": 18,
   "metadata": {},
   "outputs": [
    {
     "name": "stdout",
     "output_type": "stream",
     "text": [
      "(15, 0.5, -2, 0.5, 3)\n",
      "equilibrium price =  18.5\n"
     ]
    }
   ],
   "source": [
    "# Here's a sample of usage\n",
    "baseline_params = 15, .5, -2, .5, \n",
    "m = Market(*baseline_params) # * passes baseline_params as 15 0.5 -2 0.5 3 and not (15, 0.5, -2, 0.5, 3)\n",
    "print(\"equilibrium price = \", m.price())"
   ]
  },
  {
   "attachments": {},
   "cell_type": "markdown",
   "metadata": {},
   "source": [
    "## Exercises"
   ]
  },
  {
   "attachments": {},
   "cell_type": "markdown",
   "metadata": {},
   "source": [
    "### Exercise 7.1\n",
    "[Link](https://python-programming.quantecon.org/python_oop.html#:~:text=Exercise%207.1,clarity%2C%20not%20efficiency)"
   ]
  },
  {
   "cell_type": "code",
   "execution_count": 32,
   "metadata": {},
   "outputs": [],
   "source": [
    "from random import  uniform\n",
    "class ECDF:\n",
    "    \"\"\" \n",
    "    Implementation the empirical cumulative distribution function (ecdf) corresponding to a sample\n",
    "\n",
    "    \"\"\"\n",
    "    def __init__(self, observations):\n",
    "        self.observations = observations\n",
    "    \n",
    "    def __call__(self,x):\n",
    "        return  sum([i <= x for i in self.observations]) / len(self.observations) \n",
    "\n"
   ]
  },
  {
   "cell_type": "code",
   "execution_count": 41,
   "metadata": {},
   "outputs": [
    {
     "data": {
      "text/plain": [
       "0.7"
      ]
     },
     "execution_count": 41,
     "metadata": {},
     "output_type": "execute_result"
    }
   ],
   "source": [
    "samples = [uniform(0, 1) for i in range(10)]\n",
    "F = ECDF(samples)\n",
    "F(0.5)  # Evaluate ecdf at x = 0.5"
   ]
  },
  {
   "cell_type": "code",
   "execution_count": 37,
   "metadata": {},
   "outputs": [
    {
     "data": {
      "text/plain": [
       "0.506"
      ]
     },
     "execution_count": 37,
     "metadata": {},
     "output_type": "execute_result"
    }
   ],
   "source": [
    "F.observations = [uniform(0, 1) for i in range(1000)]\n",
    "F(0.5)"
   ]
  },
  {
   "attachments": {},
   "cell_type": "markdown",
   "metadata": {},
   "source": [
    "### Exercise 7.2\n",
    "\n",
    "In an earlier exercise, you wrote a function for evaluating polynomials.\n",
    "\n",
    "[This is an extension of the exercise](https://python-programming.quantecon.org/python_oop.html#:~:text=This%20exercise%20is,any%20import%20statements)"
   ]
  },
  {
   "cell_type": "code",
   "execution_count": 74,
   "metadata": {},
   "outputs": [],
   "source": [
    "class Polynomial:\n",
    "    def __init__(self, coeff):\n",
    "        self.coeff = coeff\n",
    "    \n",
    "    def __call__(self,x):\n",
    "        return sum(a * x**i for i, a in enumerate(self.coeff))\n",
    "    \n",
    "    def differentiate(self):\n",
    "        coeff_list = [i * x for i, x in  enumerate(self.coeff)]\n",
    "        del coeff_list[0]\n",
    "\n",
    "        self.coeff = coeff_list\n"
   ]
  },
  {
   "cell_type": "code",
   "execution_count": 77,
   "metadata": {},
   "outputs": [
    {
     "name": "stdout",
     "output_type": "stream",
     "text": [
      "9\n",
      "11\n"
     ]
    }
   ],
   "source": [
    "p = Polynomial((2,4,2,1))\n",
    "print(p(1))\n",
    "\n",
    "p.differentiate()\n",
    "print(p(1))\n"
   ]
  }
 ],
 "metadata": {
  "kernelspec": {
   "display_name": "quantecon",
   "language": "python",
   "name": "python3"
  },
  "language_info": {
   "codemirror_mode": {
    "name": "ipython",
    "version": 3
   },
   "file_extension": ".py",
   "mimetype": "text/x-python",
   "name": "python",
   "nbconvert_exporter": "python",
   "pygments_lexer": "ipython3",
   "version": "3.10.9"
  },
  "orig_nbformat": 4
 },
 "nbformat": 4,
 "nbformat_minor": 2
}
