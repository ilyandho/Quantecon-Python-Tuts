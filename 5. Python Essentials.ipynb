{
 "cells": [
  {
   "attachments": {},
   "cell_type": "markdown",
   "metadata": {},
   "source": [
    "# 5. Python Essentials\n",
    "We have covered a lot of material quite quickly, with a focus on examples.\n",
    "\n",
    "Now let’s cover some core features of Python in a more systematic way.\n",
    "\n",
    "This approach is less exciting but helps clear up some details."
   ]
  },
  {
   "attachments": {},
   "cell_type": "markdown",
   "metadata": {},
   "source": [
    "## Data Types"
   ]
  },
  {
   "attachments": {},
   "cell_type": "markdown",
   "metadata": {},
   "source": [
    "### Primitive Data Types"
   ]
  },
  {
   "attachments": {},
   "cell_type": "markdown",
   "metadata": {},
   "source": [
    "#### Boolean Values\n",
    "One simple data type is Boolean values, which can be either <span style=\"color:red\">True</span> or <span style=\"color:red\">False</span>\n",
    "\n",
    "```py\n",
    "    x = True\n",
    "```\n",
    "We can check the type of any object in memory using the <span style=\"color:red\">type()</span> function.\n",
    "\n",
    "```py\n",
    "    type(x)\n",
    "```"
   ]
  },
  {
   "cell_type": "code",
   "execution_count": 8,
   "metadata": {},
   "outputs": [
    {
     "name": "stdout",
     "output_type": "stream",
     "text": [
      "True\n",
      "False\n",
      "1\n",
      "0\n",
      "2\n",
      "3\n",
      "5j (1+2j) (2+1j)\n"
     ]
    },
    {
     "data": {
      "text/plain": [
       "complex"
      ]
     },
     "execution_count": 8,
     "metadata": {},
     "output_type": "execute_result"
    }
   ],
   "source": [
    "print(True)\n",
    "print(False)\n",
    "print(True + False)\n",
    "print(False + False)\n",
    "print(True + True)\n",
    "\n",
    "bools = [True, True, False, True]  # List of Boolean values\n",
    "print(sum(bools))\n",
    "\n",
    "# Complex numbers\n",
    "x = complex(1,2)\n",
    "y = complex(2,1)\n",
    "print(x*y, x, y)\n",
    "type(x)"
   ]
  },
  {
   "attachments": {},
   "cell_type": "markdown",
   "metadata": {},
   "source": [
    "#### Slice Notation\n",
    "\n"
   ]
  },
  {
   "cell_type": "code",
   "execution_count": 19,
   "metadata": {},
   "outputs": [
    {
     "name": "stdout",
     "output_type": "stream",
     "text": [
      "['b', 'c', 'd', 'e']\n",
      "['b', 'c']\n",
      "['d', 'e']\n",
      "['a', 'c', 'e']\n",
      "['c', 'd', 'e']\n",
      "['d', 'c', 'b', 'a']\n"
     ]
    },
    {
     "data": {
      "text/plain": [
       "'bar'"
      ]
     },
     "execution_count": 19,
     "metadata": {},
     "output_type": "execute_result"
    }
   ],
   "source": [
    "# Tuples ==> x = ('a', 'b') or x = 'a','b' - immutable \n",
    "# Lists ==> ['a','b'] - mutable\n",
    "# Dictionaries ==> d = {'name': 'Frodo', 'age': 33} it is like a named list\n",
    "# Set ==> s1 = {'a', 'b'} - Unordered collections w/o duplicates\n",
    "\n",
    "a = [\"a\", \"b\", \"c\", \"d\", \"e\"]\n",
    "print(a[1:])\n",
    "print(a[1:3])\n",
    "print(a[-2:])  # Last two elements of the list\n",
    "print(a[::2])\n",
    "print(a[2::1])\n",
    "print(a[-2::-1]) # Walk backwards from the second last element to the first element\n",
    "\n",
    "# The same slice notation works on tuples and strings\n",
    "s = 'foobar'\n",
    "s[-3:]  # Select the last three elements\n",
    "\n",
    "\n",
    "# Sets  \n"
   ]
  },
  {
   "attachments": {},
   "cell_type": "markdown",
   "metadata": {},
   "source": [
    "### Input and Output\n",
    "Let’s briefly review reading and writing to text files, starting with writing\n"
   ]
  },
  {
   "cell_type": "code",
   "execution_count": 26,
   "metadata": {},
   "outputs": [
    {
     "name": "stdout",
     "output_type": "stream",
     "text": [
      "Testing\n",
      "Testing again\n",
      "Testing again...\n"
     ]
    }
   ],
   "source": [
    "f = open('newFile.txt','w') # Open 'newFile.txt' for writing\n",
    "f.write('Testing\\n') # Here '\\n' means new line\n",
    "f.write('Testing again\\n')\n",
    "f.write('Testing again...')\n",
    "f.close()\n",
    "\n",
    "\n",
    "f = open('newFile.txt','r')\n",
    "out = f.read()\n",
    "\n",
    "print(out)\n",
    "\n"
   ]
  },
  {
   "attachments": {},
   "cell_type": "markdown",
   "metadata": {},
   "source": [
    "#### Using the 'with' statement and reading writing files"
   ]
  },
  {
   "cell_type": "code",
   "execution_count": 56,
   "metadata": {},
   "outputs": [
    {
     "name": "stdout",
     "output_type": "stream",
     "text": [
      "Testing\n",
      "Testing again\n",
      "Line 0: Testing\n",
      "Line 1: Testing again\n",
      "Line 0: Testing\n",
      " Line 1: Testing again \n",
      "Line 0: Testing\n",
      " Line 1: Testing again \n",
      "This is added but not overwriting\n"
     ]
    }
   ],
   "source": [
    "with open('newFile.txt','w') as f: \n",
    "   f.write('Testing\\n')\n",
    "   f.write('Testing again')\n",
    "\n",
    "# we do not need to call the close() method since the with block will ensure the stream is closed at the end of the block.\n",
    "\n",
    "with open('newFile.txt','r') as fo:\n",
    "    out = fo.read()\n",
    "    print(out)\n",
    "\n",
    "\n",
    "# read from one file and write to another\n",
    "with open('newFile.txt', 'r') as f:\n",
    "    file = f.readlines()\n",
    "    with open('output.txt', 'w') as fo:\n",
    "        for i, line in enumerate(file):\n",
    "            fo.write(f'Line {i}: {line}')\n",
    "\n",
    "with open('output.txt', 'r') as fof:\n",
    "        print(fof.read())\n",
    "\n",
    "# The above can be written as below\n",
    "with open('newFile.txt','r') as f, open ('output2.txt','w') as fo:\n",
    "    for i, line in enumerate(file):\n",
    "        fo.write(f'Line {i}: {line} ')\n",
    "with open('output2.txt', 'r') as fo:\n",
    "    print(fo.read())\n",
    "\n",
    "# To continue writing instead overwriting we use the append mode \"a\"\n",
    "\n",
    "with open('output2.txt','a') as fo:\n",
    "    fo.write('\\nThis is added but not overwriting')\n",
    "\n",
    "with open('output2.txt') as f:\n",
    "    print(f.read())\n",
    "\n",
    "\n",
    "# Other methods are: r+, w+, a+\n",
    "\n"
   ]
  },
  {
   "attachments": {},
   "cell_type": "markdown",
   "metadata": {},
   "source": [
    "#### Looping over Different Objects\n",
    "Using the magic cell %%writefile to the current working directory"
   ]
  },
  {
   "cell_type": "code",
   "execution_count": 61,
   "metadata": {},
   "outputs": [
    {
     "name": "stdout",
     "output_type": "stream",
     "text": [
      "Writing us_cities.txt\n"
     ]
    }
   ],
   "source": [
    "%%writefile us_cities.txt\n",
    "new york: 8244910\n",
    "los angeles: 3819702\n",
    "chicago: 2707120\n",
    "houston: 2145146\n",
    "philadelphia: 1536471\n",
    "phoenix: 1469471\n",
    "san antonio: 1359758\n",
    "san diego: 1326179\n",
    "dallas: 1223229"
   ]
  },
  {
   "attachments": {},
   "cell_type": "markdown",
   "metadata": {},
   "source": [
    "Suppose that we want to make the information more readable, by capitalizing names and adding commas to mark thousands."
   ]
  },
  {
   "cell_type": "code",
   "execution_count": 66,
   "metadata": {},
   "outputs": [
    {
     "name": "stdout",
     "output_type": "stream",
     "text": [
      "New York       8,244,910\n",
      "Los Angeles    3,819,702\n",
      "Chicago        2,707,120\n",
      "Houston        2,145,146\n",
      "Philadelphia   1,536,471\n",
      "Phoenix        1,469,471\n",
      "San Antonio    1,359,758\n",
      "San Diego      1,326,179\n",
      "Dallas         1,223,229\n"
     ]
    }
   ],
   "source": [
    "with open('us_cities.txt','r') as data_file:\n",
    "    for line in data_file:\n",
    "        city,population = line.split(':') # Tuple unpacking\n",
    "        city = city.title()    # Capitalize City Names\n",
    "        population = f'{int(population):,}' # Add commas to numbers\n",
    "        print(city.ljust(15) + population)"
   ]
  },
  {
   "attachments": {},
   "cell_type": "markdown",
   "metadata": {},
   "source": [
    "### Iterations"
   ]
  },
  {
   "attachments": {},
   "cell_type": "markdown",
   "metadata": {},
   "source": [
    "#### Looping with zip() for stepping through pairs from two sequences"
   ]
  },
  {
   "cell_type": "code",
   "execution_count": 71,
   "metadata": {},
   "outputs": [
    {
     "name": "stdout",
     "output_type": "stream",
     "text": [
      "The capital of Japan is Tokyo\n",
      "The capital of Korea is Seoul\n",
      "The capital of China is Beijing\n",
      "<zip object at 0x0000022AC2ABF0C0> {'Tom': 'E', 'John': 'F'}\n",
      "letter_list[0] = 'a'\n",
      "letter_list[1] = 'b'\n",
      "letter_list[2] = 'c'\n"
     ]
    }
   ],
   "source": [
    "countries = ('Japan', 'Korea', 'China')\n",
    "cities = ('Tokyo', 'Seoul', 'Beijing')\n",
    "for country, city in zip(countries,cities):\n",
    "    print(f'The capital of {country} is {city}')\n",
    "\n",
    "# Create dictionary with zip\n",
    "names = ['Tom', 'John']\n",
    "marks = ['E','F']\n",
    "\n",
    "print(zip(names,marks), dict(zip(names, marks)))\n",
    "\n",
    "# Use enumerate() for index from a list\n",
    "letter_list = ['a', 'b', 'c']\n",
    "for index, letter in enumerate(letter_list):\n",
    "    print(f\"letter_list[{index}] = '{letter}'\")\n"
   ]
  },
  {
   "attachments": {},
   "cell_type": "markdown",
   "metadata": {},
   "source": [
    "#### List Comprehensions\n",
    "List comprehensions are an elegant Python tool for creating lists."
   ]
  },
  {
   "cell_type": "code",
   "execution_count": 77,
   "metadata": {},
   "outputs": [
    {
     "name": "stdout",
     "output_type": "stream",
     "text": [
      "['dogss', 'cats', 'birds']\n",
      "range(0, 8)\n",
      "[0, 2, 4, 6, 8, 10, 12, 14]\n"
     ]
    }
   ],
   "source": [
    "animals = ['dogs','cat','bird']\n",
    "plurals = [animal + 's' for animal in animals] # the RHS is the list comprehension\n",
    "print(plurals)\n",
    "\n",
    "print(range(8))\n",
    "doubles = [2 * x for x in range(8)]\n",
    "print(doubles)\n",
    "\n"
   ]
  },
  {
   "cell_type": "code",
   "execution_count": 78,
   "metadata": {},
   "outputs": [
    {
     "name": "stdout",
     "output_type": "stream",
     "text": [
      "The Zen of Python, by Tim Peters\n",
      "\n",
      "Beautiful is better than ugly.\n",
      "Explicit is better than implicit.\n",
      "Simple is better than complex.\n",
      "Complex is better than complicated.\n",
      "Flat is better than nested.\n",
      "Sparse is better than dense.\n",
      "Readability counts.\n",
      "Special cases aren't special enough to break the rules.\n",
      "Although practicality beats purity.\n",
      "Errors should never pass silently.\n",
      "Unless explicitly silenced.\n",
      "In the face of ambiguity, refuse the temptation to guess.\n",
      "There should be one-- and preferably only one --obvious way to do it.\n",
      "Although that way may not be obvious at first unless you're Dutch.\n",
      "Now is better than never.\n",
      "Although never is often better than *right* now.\n",
      "If the implementation is hard to explain, it's a bad idea.\n",
      "If the implementation is easy to explain, it may be a good idea.\n",
      "Namespaces are one honking great idea -- let's do more of those!\n"
     ]
    }
   ],
   "source": [
    "import this"
   ]
  },
  {
   "attachments": {},
   "cell_type": "markdown",
   "metadata": {},
   "source": [
    "## Exercises"
   ]
  },
  {
   "attachments": {},
   "cell_type": "markdown",
   "metadata": {},
   "source": [
    "### Exercise 5.1\n",
    "\n",
    "Part 1: Given two numeric lists or tuples <span style='color:pink'>x_vals</span> and <span style='color:pink'>y_vals</span> of equal length, compute their inner product using <span style='color:pink'>zip()</span>.\n",
    "\n",
    "Part 2: In one line, count the number of even numbers in 0,…,99.\n",
    "\n",
    "Part 3: Given <span style='color:pink'>pairs = ((2, 5), (4, 2), (9, 8), (12, 10))</span>, count the number of pairs <span style='color:pink'>(a, b)</span> such that both a and b are even."
   ]
  },
  {
   "cell_type": "code",
   "execution_count": 93,
   "metadata": {},
   "outputs": [
    {
     "name": "stdout",
     "output_type": "stream",
     "text": [
      "7646\n",
      "7646\n",
      "50\n",
      "50\n",
      "2\n",
      "2\n"
     ]
    }
   ],
   "source": [
    "\n",
    "# Inner product\n",
    "x_vals = [2,4,56,34,58]\n",
    "y_vals = [5,7,3,67,89]\n",
    "\n",
    "inner_pdt = 0\n",
    "for x,y in zip(x_vals,y_vals):\n",
    "    inner_pdt += x*y\n",
    "\n",
    "print(inner_pdt)\n",
    "## OR\n",
    "print(sum([x*y for x,y in zip(x_vals,y_vals)]))\n",
    "\n",
    "\n",
    "# number of even in range(100)\n",
    "print(len([x  for x in range(100) if x%2==0]))\n",
    "## OR\n",
    "print(sum([x%2 == 0 for x in range(100)]))\n",
    "\n",
    "# number of pairs (a,b) such that a and b are pairs\n",
    "pairs = ((2, 5), (4, 2), (9, 8), (12, 10))\n",
    "number = 0\n",
    "for pair in pairs:\n",
    "    if pair[0]%2==0 and pair[1]%2 == 0:\n",
    "        number+=1\n",
    "print(number)\n",
    "\n",
    "## OR\n",
    "print(sum(x%2 == 0 and y%2 == 0 for x,y in pairs))"
   ]
  },
  {
   "attachments": {},
   "cell_type": "markdown",
   "metadata": {},
   "source": [
    "### Exercise 5.2\n",
    "COnsider the polynomial\n",
    "    $$ \n",
    "    p(x) = a_0 + a_1x + a_2x^2 + ... + a_nx^n = \\sum_{i=0}^n a_ix^i\n",
    "    $$ \n",
    "Write a function p such that <span style='color:pink'>p(x, coeff)</span> that computes the value in (5.1) given a point <span style='color:pink'>x</span> and a list of coefficients <span style='color:pink'>coeff</span> $(a_1,a_2,...,a_n)$.\n",
    "\n",
    "Try to use <span style='color:pink'>enumerate()</span> in your loop."
   ]
  },
  {
   "cell_type": "code",
   "execution_count": 95,
   "metadata": {},
   "outputs": [
    {
     "data": {
      "text/plain": [
       "6"
      ]
     },
     "execution_count": 95,
     "metadata": {},
     "output_type": "execute_result"
    }
   ],
   "source": [
    "pairs = ((2, 5), (4, 2), (9, 8), (12, 10))\n",
    "\n",
    "def p(x,coeff):\n",
    "    return sum(a*x**i for i, a in enumerate(coeff))\n",
    "\n",
    "p(1,(2,4))\n",
    "\n"
   ]
  },
  {
   "attachments": {},
   "cell_type": "markdown",
   "metadata": {},
   "source": [
    "### Exercise 5.3\n",
    "Write a function that takes a string as an argument and returns the number of capital letters in the string."
   ]
  },
  {
   "cell_type": "code",
   "execution_count": 110,
   "metadata": {},
   "outputs": [
    {
     "name": "stdout",
     "output_type": "stream",
     "text": [
      "jfHlT hYher JjkKJjk\n",
      "6\n"
     ]
    }
   ],
   "source": [
    "def number_of_caps(text):\n",
    "    print(text)\n",
    "    return sum([x.isupper() for x in text])\n",
    "\n",
    "print(number_of_caps('jfHlT hYher JjkKJjk'))\n"
   ]
  },
  {
   "attachments": {},
   "cell_type": "markdown",
   "metadata": {},
   "source": [
    "### Exercise 5.4\n",
    "\n",
    "When we cover the numerical libraries, we will see they include many alternatives for interpolation and function approximation.\n",
    "\n",
    "Nevertheless, let’s write our own function approximation routine as an exercise.\n",
    "\n",
    "In particular, without using any imports, write a function <span style=\"color:pink\">linapprox</span> that takes as arguments\n",
    "\n",
    "- A function <span style=\"color:pink\">f</span> mapping some interval $\\left[a,b\\right]$ into $\\real$.\n",
    "\n",
    "- Two scalars <span style=\"color:pink\">a</span> and <span style=\"color:pink\">b</span> providing the limits of this interval.\n",
    "\n",
    "- An integer <span style=\"color:pink\">n</span> determining the number of grid points.\n",
    "\n",
    "- A number <span style=\"color:pink\">x</span> satisfying <span style=\"color:pink\">a <= x <= b</span>.\n",
    "\n",
    "and returns the piecewise linear interpolation of <span style=\"color:pink\">f</span> at <span style=\"color:pink\">x</span>, based on <span style=\"color:pink\">n</span> evenly spaced grid points <span style=\"color:pink\">a = point[0] < point[1] < ... < point[n-1] = b </span>.\n",
    "\n",
    "Aim for clarity, not efficiency."
   ]
  },
  {
   "cell_type": "code",
   "execution_count": 124,
   "metadata": {},
   "outputs": [
    {
     "name": "stdout",
     "output_type": "stream",
     "text": [
      "3.9959969979989993\n"
     ]
    }
   ],
   "source": [
    "def linapprox(f,a,b, n,x):\n",
    "    h = abs(b-a)/(n-1)       \n",
    "    # Find first point larger than x\n",
    "    point  = a\n",
    "    while point <= x:\n",
    "        point += h \n",
    "    # Set x te be between u = point-h, and v = point\n",
    "    u,v = point - h, point\n",
    "\n",
    "    return f(u) + (x-v) * (f(v)-f(u))/(v-u)\n",
    "\n",
    "print(linapprox(lambda x: x**2, 1,2,1000,2))\n"
   ]
  },
  {
   "attachments": {},
   "cell_type": "markdown",
   "metadata": {},
   "source": [
    "### Exercise 5.6\n",
    "Using list comprehension syntax, we can simplify the loop in the following code.\n"
   ]
  },
  {
   "cell_type": "code",
   "execution_count": 126,
   "metadata": {},
   "outputs": [
    {
     "name": "stdout",
     "output_type": "stream",
     "text": [
      "[1.21406215368994, 1.488514216241108, 0.09529584223142949, -1.6126883225037436, -0.5503323223599714, 0.4005544530812822, 1.5485278411710686, -0.0894810130403763, -1.2525853435762964, -0.45998859819418586, -0.9361868113296646, -1.6591916459115181, -0.14090201093858795, 0.1531811341938107, 0.22712273342085643, 0.6665505505400355, -0.7047059891294936, -1.1479315554043412, 1.9379884103804592, 1.437883956929702, 0.6154517637396149, 1.5993853701843288, -1.1272238177185463, -0.9476050629073663, -1.6469697086025754, -0.26460256482906497, 0.9462682728208671, -0.5956860066857377, -0.0059759756086651935, -0.10282176992971905, -0.4718358649528528, -1.067312640638305, -1.6467302331620555, 0.5060303119477132, -0.43305407856539313, -0.2918431883514084, -0.0336331184014031, 1.8119489759870928, 0.7022776047161385, -0.10299353994537265, -0.3333807678496407, 0.7013108891546728, 1.2326546912655176, 0.7157431474279807, 0.5434768083002521, 0.4135054752999782, -0.14988258104302524, 2.295133867877135, -0.24457865730882156, -0.1636631643634278, -0.322224630994495, -1.5059597763078636, 0.6982519069233502, 1.7976165183584945, 1.1905831865637677, 0.6382210745155954, 0.019704060981100207, 0.626530465018208, 0.34303083090819, 1.008802287222488, -1.5230503308846688, 1.2014424048017265, -0.34108572438525525, 0.20775482399966083, 0.7045507976354304, -0.06395673016822363, 0.39692540345865435, 0.9011429801816722, -0.45595930477935215, 0.8842882813810755, 1.4162795451979655, -1.6226083342387332, -0.6170420457466013, 0.5788521822015456, -1.6173268292720584, 0.6482573330767455, 0.32828036241247455, -0.8444713847636833, -0.6833214532799035, -0.9999518124757331, 0.09274340059696383, -0.7463278090979304, 0.11444180067598482, -0.946188695718493, -0.4121372978062248, -1.4534795055878083, -1.1444357576623005, -1.1821335485601057, 1.2308011230636542, 0.10650456831684223, 0.18616510023992408, -1.909478436840952, -1.6494154551087463, 1.0062381112072132, 0.37062315641143806, 2.4547233954676417, -0.1355027815386789, -0.31584216274114946, -0.04952980473405451, -0.7912062657894435]\n"
     ]
    }
   ],
   "source": [
    "import numpy as np\n",
    "\n",
    "n = 100\n",
    "ϵ_values = []\n",
    "for i in range(n):\n",
    "    e = np.random.randn()\n",
    "    ϵ_values.append(e)\n",
    "\n",
    "print(ε_values)"
   ]
  },
  {
   "cell_type": "code",
   "execution_count": 129,
   "metadata": {},
   "outputs": [
    {
     "name": "stdout",
     "output_type": "stream",
     "text": [
      "[-0.7081302185133579, 0.36803414339776974, -0.18325068515378182, -0.35820519793241073, -0.12360763178114886, -0.8958612503571315, -0.5303250041189203, -0.7255859102979093, 0.22710459094440594, 1.171464441408658, -1.070168430610579, 0.19260252967479088, 0.8288157550318003, 0.6552051359291696, 0.2973433820548695, 0.7964451604724068, -0.8134363647541695, -2.3895550345797485, -0.15274841178051732, 0.4872898023739662, -0.09643046898259854, 0.7619084021930981, -0.025419569861453425, 0.15083666664168213, 0.722073954616251, 0.5911158120108303, -0.6203894549530016, -0.565241833084011, -0.6611247518467831, -1.1555081758009975, 0.44017841743342645, -0.6711315162589973, -0.5251769188503654, -0.9941743132546504, 0.5015717047006132, 1.6672183611586116, -0.011596496084707753, -3.020923686582569, 0.24239493474444992, 1.0796902143444917, 1.9274068248748055, 1.030712535972199, 0.721002223451729, -1.302401215924679, 1.2860704292083494, 0.3334526907618943, -1.6207811306336855, -1.8504105211108781, 0.21462334266669914, -1.0956924685929894, 0.2983548873832233, -2.403489648001596, 0.5340563202819947, 1.80489501371516, 0.13507815011891225, -0.4092723622550279, -0.3701288891458457, -0.6634906127782724, 1.0049403784948008, -0.2013907176786684, 0.6600067434193001, -0.15102893902938944, -0.6770369315064902, 1.6168743024642145, 0.8204535742335956, -0.5761101307112726, -0.46817048504952813, 0.5820457345098988, 0.5627480455542251, 0.7240357148949492, 0.3152945743982376, 1.0490058685702064, -2.6752356572949276, -1.2389842804530982, -1.0420425284120511, -1.6531783470894286, 0.34078924531068155, 0.42528932689728416, -0.5006983389622987, 1.706582665722861, 0.513908488613382, 0.32321744831786103, -0.6442851310916098, -0.3758079985312784, -0.2935786189524578, -0.236585734417146, -0.9595434758077122, 0.22506003104630992, -0.6373226869915256, 1.3039891001825943, -0.06833129955491501, -0.56197381178339, -0.32529155941993826, 1.8075532734048616, -0.4650321403218632, -0.1466067213148079, -0.3033629297125208, -1.564475981770754, -0.6363506425568304, 0.31747848442994264]\n"
     ]
    }
   ],
   "source": [
    "n = 100\n",
    "ε_values = [np.random.randn() for i in range(100)]\n",
    "print(ε_values)"
   ]
  }
 ],
 "metadata": {
  "kernelspec": {
   "display_name": "Python 3 (ipykernel)",
   "language": "python",
   "name": "python3"
  },
  "language_info": {
   "codemirror_mode": {
    "name": "ipython",
    "version": 3
   },
   "file_extension": ".py",
   "mimetype": "text/x-python",
   "name": "python",
   "nbconvert_exporter": "python",
   "pygments_lexer": "ipython3",
   "version": "3.10.9"
  },
  "orig_nbformat": 4
 },
 "nbformat": 4,
 "nbformat_minor": 2
}
