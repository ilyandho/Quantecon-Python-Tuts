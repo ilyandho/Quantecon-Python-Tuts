{
 "cells": [
  {
   "attachments": {},
   "cell_type": "markdown",
   "metadata": {},
   "source": [
    "# 5. Python Essentials\n",
    "We have covered a lot of material quite quickly, with a focus on examples.\n",
    "\n",
    "Now let’s cover some core features of Python in a more systematic way.\n",
    "\n",
    "This approach is less exciting but helps clear up some details."
   ]
  },
  {
   "attachments": {},
   "cell_type": "markdown",
   "metadata": {},
   "source": [
    "## Data Types"
   ]
  },
  {
   "attachments": {},
   "cell_type": "markdown",
   "metadata": {},
   "source": [
    "### Primitive Data Types"
   ]
  },
  {
   "attachments": {},
   "cell_type": "markdown",
   "metadata": {},
   "source": [
    "#### Boolean Values\n",
    "One simple data type is Boolean values, which can be either <span style=\"color:red\">True</span> or <span style=\"color:red\">False</span>\n",
    "\n",
    "```py\n",
    "    x = True\n",
    "```\n",
    "We can check the type of any object in memory using the <span style=\"color:red\">type()</span> function.\n",
    "\n",
    "```py\n",
    "    type(x)\n",
    "```"
   ]
  },
  {
   "cell_type": "code",
   "execution_count": 8,
   "metadata": {},
   "outputs": [
    {
     "name": "stdout",
     "output_type": "stream",
     "text": [
      "True\n",
      "False\n",
      "1\n",
      "0\n",
      "2\n",
      "3\n",
      "5j (1+2j) (2+1j)\n"
     ]
    },
    {
     "data": {
      "text/plain": [
       "complex"
      ]
     },
     "execution_count": 8,
     "metadata": {},
     "output_type": "execute_result"
    }
   ],
   "source": [
    "print(True)\n",
    "print(False)\n",
    "print(True + False)\n",
    "print(False + False)\n",
    "print(True + True)\n",
    "\n",
    "bools = [True, True, False, True]  # List of Boolean values\n",
    "print(sum(bools))\n",
    "\n",
    "# Complex numbers\n",
    "x = complex(1,2)\n",
    "y = complex(2,1)\n",
    "print(x*y, x, y)\n",
    "type(x)"
   ]
  },
  {
   "attachments": {},
   "cell_type": "markdown",
   "metadata": {},
   "source": [
    "#### Slice Notation\n",
    "\n"
   ]
  },
  {
   "cell_type": "code",
   "execution_count": 19,
   "metadata": {},
   "outputs": [
    {
     "name": "stdout",
     "output_type": "stream",
     "text": [
      "['b', 'c', 'd', 'e']\n",
      "['b', 'c']\n",
      "['d', 'e']\n",
      "['a', 'c', 'e']\n",
      "['c', 'd', 'e']\n",
      "['d', 'c', 'b', 'a']\n"
     ]
    },
    {
     "data": {
      "text/plain": [
       "'bar'"
      ]
     },
     "execution_count": 19,
     "metadata": {},
     "output_type": "execute_result"
    }
   ],
   "source": [
    "# Tuples ==> x = ('a', 'b') or x = 'a','b' - immutable \n",
    "# Lists ==> ['a','b'] - mutable\n",
    "# Dictionaries ==> d = {'name': 'Frodo', 'age': 33} it is like a named list\n",
    "# Set ==> s1 = {'a', 'b'} - Unordered collections w/o duplicates\n",
    "\n",
    "a = [\"a\", \"b\", \"c\", \"d\", \"e\"]\n",
    "print(a[1:])\n",
    "print(a[1:3])\n",
    "print(a[-2:])  # Last two elements of the list\n",
    "print(a[::2])\n",
    "print(a[2::1])\n",
    "print(a[-2::-1]) # Walk backwards from the second last element to the first element\n",
    "\n",
    "# The same slice notation works on tuples and strings\n",
    "s = 'foobar'\n",
    "s[-3:]  # Select the last three elements\n",
    "\n",
    "\n",
    "# Sets  \n"
   ]
  },
  {
   "attachments": {},
   "cell_type": "markdown",
   "metadata": {},
   "source": [
    "### Input and Output\n",
    "Let’s briefly review reading and writing to text files, starting with writing\n"
   ]
  },
  {
   "cell_type": "code",
   "execution_count": 26,
   "metadata": {},
   "outputs": [
    {
     "name": "stdout",
     "output_type": "stream",
     "text": [
      "Testing\n",
      "Testing again\n",
      "Testing again...\n"
     ]
    }
   ],
   "source": [
    "f = open('newFile.txt','w') # Open 'newFile.txt' for writing\n",
    "f.write('Testing\\n') # Here '\\n' means new line\n",
    "f.write('Testing again\\n')\n",
    "f.write('Testing again...')\n",
    "f.close()\n",
    "\n",
    "\n",
    "f = open('newFile.txt','r')\n",
    "out = f.read()\n",
    "\n",
    "print(out)\n",
    "\n"
   ]
  },
  {
   "attachments": {},
   "cell_type": "markdown",
   "metadata": {},
   "source": [
    "#### Using the 'with' statement and reading writing files"
   ]
  },
  {
   "cell_type": "code",
   "execution_count": 56,
   "metadata": {},
   "outputs": [
    {
     "name": "stdout",
     "output_type": "stream",
     "text": [
      "Testing\n",
      "Testing again\n",
      "Line 0: Testing\n",
      "Line 1: Testing again\n",
      "Line 0: Testing\n",
      " Line 1: Testing again \n",
      "Line 0: Testing\n",
      " Line 1: Testing again \n",
      "This is added but not overwriting\n"
     ]
    }
   ],
   "source": [
    "with open('newFile.txt','w') as f: \n",
    "   f.write('Testing\\n')\n",
    "   f.write('Testing again')\n",
    "\n",
    "# we do not need to call the close() method since the with block will ensure the stream is closed at the end of the block.\n",
    "\n",
    "with open('newFile.txt','r') as fo:\n",
    "    out = fo.read()\n",
    "    print(out)\n",
    "\n",
    "\n",
    "# read from one file and write to another\n",
    "with open('newFile.txt', 'r') as f:\n",
    "    file = f.readlines()\n",
    "    with open('output.txt', 'w') as fo:\n",
    "        for i, line in enumerate(file):\n",
    "            fo.write(f'Line {i}: {line}')\n",
    "\n",
    "with open('output.txt', 'r') as fof:\n",
    "        print(fof.read())\n",
    "\n",
    "# The above can be written as below\n",
    "with open('newFile.txt','r') as f, open ('output2.txt','w') as fo:\n",
    "    for i, line in enumerate(file):\n",
    "        fo.write(f'Line {i}: {line} ')\n",
    "with open('output2.txt', 'r') as fo:\n",
    "    print(fo.read())\n",
    "\n",
    "# To continue writing instead overwriting we use the append mode \"a\"\n",
    "\n",
    "with open('output2.txt','a') as fo:\n",
    "    fo.write('\\nThis is added but not overwriting')\n",
    "\n",
    "with open('output2.txt') as f:\n",
    "    print(f.read())\n",
    "\n",
    "\n",
    "# Other methods are: r+, w+, a+\n",
    "\n"
   ]
  },
  {
   "attachments": {},
   "cell_type": "markdown",
   "metadata": {},
   "source": [
    "#### Looping over Different Objects\n",
    "Using the magic cell %%writefile to the current working directory"
   ]
  },
  {
   "cell_type": "code",
   "execution_count": 61,
   "metadata": {},
   "outputs": [
    {
     "name": "stdout",
     "output_type": "stream",
     "text": [
      "Writing us_cities.txt\n"
     ]
    }
   ],
   "source": [
    "%%writefile us_cities.txt\n",
    "new york: 8244910\n",
    "los angeles: 3819702\n",
    "chicago: 2707120\n",
    "houston: 2145146\n",
    "philadelphia: 1536471\n",
    "phoenix: 1469471\n",
    "san antonio: 1359758\n",
    "san diego: 1326179\n",
    "dallas: 1223229"
   ]
  },
  {
   "attachments": {},
   "cell_type": "markdown",
   "metadata": {},
   "source": [
    "Suppose that we want to make the information more readable, by capitalizing names and adding commas to mark thousands."
   ]
  },
  {
   "cell_type": "code",
   "execution_count": 66,
   "metadata": {},
   "outputs": [
    {
     "name": "stdout",
     "output_type": "stream",
     "text": [
      "New York       8,244,910\n",
      "Los Angeles    3,819,702\n",
      "Chicago        2,707,120\n",
      "Houston        2,145,146\n",
      "Philadelphia   1,536,471\n",
      "Phoenix        1,469,471\n",
      "San Antonio    1,359,758\n",
      "San Diego      1,326,179\n",
      "Dallas         1,223,229\n"
     ]
    }
   ],
   "source": [
    "with open('us_cities.txt','r') as data_file:\n",
    "    for line in data_file:\n",
    "        city,population = line.split(':') # Tuple unpacking\n",
    "        city = city.title()    # Capitalize City Names\n",
    "        population = f'{int(population):,}' # Add commas to numbers\n",
    "        print(city.ljust(15) + population)"
   ]
  },
  {
   "attachments": {},
   "cell_type": "markdown",
   "metadata": {},
   "source": [
    "### Iterations"
   ]
  },
  {
   "attachments": {},
   "cell_type": "markdown",
   "metadata": {},
   "source": [
    "#### Looping with zip() for stepping through pairs from two sequences"
   ]
  },
  {
   "cell_type": "code",
   "execution_count": 71,
   "metadata": {},
   "outputs": [
    {
     "name": "stdout",
     "output_type": "stream",
     "text": [
      "The capital of Japan is Tokyo\n",
      "The capital of Korea is Seoul\n",
      "The capital of China is Beijing\n",
      "<zip object at 0x0000022AC2ABF0C0> {'Tom': 'E', 'John': 'F'}\n",
      "letter_list[0] = 'a'\n",
      "letter_list[1] = 'b'\n",
      "letter_list[2] = 'c'\n"
     ]
    }
   ],
   "source": [
    "countries = ('Japan', 'Korea', 'China')\n",
    "cities = ('Tokyo', 'Seoul', 'Beijing')\n",
    "for country, city in zip(countries,cities):\n",
    "    print(f'The capital of {country} is {city}')\n",
    "\n",
    "# Create dictionary with zip\n",
    "names = ['Tom', 'John']\n",
    "marks = ['E','F']\n",
    "\n",
    "print(zip(names,marks), dict(zip(names, marks)))\n",
    "\n",
    "# Use enumerate() for index from a list\n",
    "letter_list = ['a', 'b', 'c']\n",
    "for index, letter in enumerate(letter_list):\n",
    "    print(f\"letter_list[{index}] = '{letter}'\")\n"
   ]
  },
  {
   "attachments": {},
   "cell_type": "markdown",
   "metadata": {},
   "source": [
    "#### List Comprehensions\n",
    "List comprehensions are an elegant Python tool for creating lists."
   ]
  },
  {
   "cell_type": "code",
   "execution_count": 77,
   "metadata": {},
   "outputs": [
    {
     "name": "stdout",
     "output_type": "stream",
     "text": [
      "['dogss', 'cats', 'birds']\n",
      "range(0, 8)\n",
      "[0, 2, 4, 6, 8, 10, 12, 14]\n"
     ]
    }
   ],
   "source": [
    "animals = ['dogs','cat','bird']\n",
    "plurals = [animal + 's' for animal in animals] # the RHS is the list comprehension\n",
    "print(plurals)\n",
    "\n",
    "print(range(8))\n",
    "doubles = [2 * x for x in range(8)]\n",
    "print(doubles)\n",
    "\n"
   ]
  },
  {
   "cell_type": "code",
   "execution_count": 78,
   "metadata": {},
   "outputs": [
    {
     "name": "stdout",
     "output_type": "stream",
     "text": [
      "The Zen of Python, by Tim Peters\n",
      "\n",
      "Beautiful is better than ugly.\n",
      "Explicit is better than implicit.\n",
      "Simple is better than complex.\n",
      "Complex is better than complicated.\n",
      "Flat is better than nested.\n",
      "Sparse is better than dense.\n",
      "Readability counts.\n",
      "Special cases aren't special enough to break the rules.\n",
      "Although practicality beats purity.\n",
      "Errors should never pass silently.\n",
      "Unless explicitly silenced.\n",
      "In the face of ambiguity, refuse the temptation to guess.\n",
      "There should be one-- and preferably only one --obvious way to do it.\n",
      "Although that way may not be obvious at first unless you're Dutch.\n",
      "Now is better than never.\n",
      "Although never is often better than *right* now.\n",
      "If the implementation is hard to explain, it's a bad idea.\n",
      "If the implementation is easy to explain, it may be a good idea.\n",
      "Namespaces are one honking great idea -- let's do more of those!\n"
     ]
    }
   ],
   "source": [
    "import this"
   ]
  },
  {
   "attachments": {},
   "cell_type": "markdown",
   "metadata": {},
   "source": [
    "## Exercises"
   ]
  },
  {
   "attachments": {},
   "cell_type": "markdown",
   "metadata": {},
   "source": [
    "### Exercise 5.1\n",
    "\n",
    "Part 1: Given two numeric lists or tuples <span style='color:pink'>x_vals</span> and <span style='color:pink'>y_vals</span> of equal length, compute their inner product using <span style='color:pink'>zip()</span>.\n",
    "\n",
    "Part 2: In one line, count the number of even numbers in 0,…,99.\n",
    "\n",
    "Part 3: Given <span style='color:pink'>pairs = ((2, 5), (4, 2), (9, 8), (12, 10))</span>, count the number of pairs <span style='color:pink'>(a, b)</span> such that both a and b are even."
   ]
  },
  {
   "cell_type": "code",
   "execution_count": 90,
   "metadata": {},
   "outputs": [
    {
     "name": "stdout",
     "output_type": "stream",
     "text": [
      "7646\n",
      "7646\n",
      "50\n",
      "2\n"
     ]
    }
   ],
   "source": [
    "\n",
    "# Inner product\n",
    "x_vals = [2,4,56,34,58]\n",
    "y_vals = [5,7,3,67,89]\n",
    "\n",
    "inner_pdt = 0\n",
    "for x,y in zip(x_vals,y_vals):\n",
    "    inner_pdt += x*y\n",
    "\n",
    "print(inner_pdt)\n",
    "## OR\n",
    "print(sum([x*y for x,y in zip(x_vals,y_vals)]))\n",
    "\n",
    "\n",
    "# number of even in range(100)\n",
    "print(len([x  for x in range(100) if x%2==0]))\n",
    "\n",
    "# number of pairs (a,b) such that a and b are pairs\n",
    "pairs = ((2, 5), (4, 2), (9, 8), (12, 10))\n",
    "number = 0\n",
    "for pair in pairs:\n",
    "    if pair[0]%2==0 and pair[1]%2 == 0:\n",
    "        number+=1\n",
    "print(number)"
   ]
  }
 ],
 "metadata": {
  "kernelspec": {
   "display_name": "Python 3 (ipykernel)",
   "language": "python",
   "name": "python3"
  },
  "language_info": {
   "codemirror_mode": {
    "name": "ipython",
    "version": 3
   },
   "file_extension": ".py",
   "mimetype": "text/x-python",
   "name": "python",
   "nbconvert_exporter": "python",
   "pygments_lexer": "ipython3",
   "version": "3.10.9"
  },
  "orig_nbformat": 4
 },
 "nbformat": 4,
 "nbformat_minor": 2
}
